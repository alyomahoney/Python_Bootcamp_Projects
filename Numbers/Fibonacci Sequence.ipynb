{
 "cells": [
  {
   "cell_type": "markdown",
   "id": "84d70ba0",
   "metadata": {},
   "source": [
    "# Fibonacci Sequence\n",
    "This program takes an integer input, n, and returns the Fibonacci Sequence up until and including the n<sup>th</sup> digit"
   ]
  },
  {
   "cell_type": "code",
   "execution_count": 17,
   "id": "a956a91b",
   "metadata": {},
   "outputs": [
    {
     "name": "stdout",
     "output_type": "stream",
     "text": [
      "Enter the length of the Fibonacci Sequence: 6\n",
      "1, 1, 2, 3, 5, 8\n"
     ]
    }
   ],
   "source": [
    "def fib_seq():\n",
    "\n",
    "    need_input = True\n",
    "\n",
    "    while need_input:\n",
    "        try:\n",
    "            n = int(input(\"Enter the length of the Fibonacci Sequence: \"))\n",
    "        except:\n",
    "            print(\"That is not an integer. Try again.\")\n",
    "        else:\n",
    "            if n < 1:\n",
    "                print(\"Number must be positive.\")\n",
    "            else:\n",
    "                need_input = False\n",
    "                break\n",
    "\n",
    "    fib = [1,1]\n",
    "    for i in range(n):\n",
    "        fib.append(fib[-1]+fib[-2])\n",
    "\n",
    "    del fib[-2:]\n",
    "\n",
    "    for i in range(len(fib)):\n",
    "        fib[i] = str(fib[i])\n",
    "\n",
    "    print(', '.join(fib))\n",
    "    \n",
    "fib_seq()"
   ]
  }
 ],
 "metadata": {
  "kernelspec": {
   "display_name": "Python 3 (ipykernel)",
   "language": "python",
   "name": "python3"
  },
  "language_info": {
   "codemirror_mode": {
    "name": "ipython",
    "version": 3
   },
   "file_extension": ".py",
   "mimetype": "text/x-python",
   "name": "python",
   "nbconvert_exporter": "python",
   "pygments_lexer": "ipython3",
   "version": "3.9.12"
  }
 },
 "nbformat": 4,
 "nbformat_minor": 5
}
