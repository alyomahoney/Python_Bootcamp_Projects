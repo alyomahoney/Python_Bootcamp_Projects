{
 "cells": [
  {
   "cell_type": "markdown",
   "id": "b88ca828",
   "metadata": {},
   "source": [
    "# Prime Factorisation\n",
    "This program takes a number, n, as an input and returns its prime factor decomposition."
   ]
  },
  {
   "cell_type": "code",
   "execution_count": 1,
   "id": "722689da",
   "metadata": {},
   "outputs": [],
   "source": [
    "def input_integer():\n",
    "    \n",
    "    need_number = True\n",
    "    \n",
    "    while need_number:\n",
    "        \n",
    "        try:\n",
    "            n = int(input(\"Enter a number: \"))\n",
    "            \n",
    "        except:\n",
    "            print(\"That is not an integer. Please try again.\")\n",
    "            \n",
    "        else:\n",
    "            if n < 1:\n",
    "                print(\"Number must be positive.\")\n",
    "            else:\n",
    "                return n\n",
    "            need_number = False\n",
    "            break"
   ]
  },
  {
   "cell_type": "code",
   "execution_count": 2,
   "id": "8cb1aade",
   "metadata": {},
   "outputs": [],
   "source": [
    "def prime_factors(n):\n",
    "    \n",
    "    factors_list = []\n",
    "    \n",
    "    while True:\n",
    "        \n",
    "        start_length = len(factors_list)\n",
    "\n",
    "        for i in range(2,int(n)+1):\n",
    "\n",
    "            if n % i == 0:\n",
    "                factors_list.append(i)\n",
    "                n /= i\n",
    "                break\n",
    "                \n",
    "        end_length = len(factors_list)\n",
    "        \n",
    "        if start_length == end_length:\n",
    "            break\n",
    "            \n",
    "    return factors_list"
   ]
  },
  {
   "cell_type": "code",
   "execution_count": 3,
   "id": "bd70de94",
   "metadata": {},
   "outputs": [],
   "source": [
    "import collections\n",
    "\n",
    "def display_factors(f):\n",
    "    \n",
    "    factor_display = []\n",
    "    \n",
    "    if len(f) == 1:\n",
    "        return f'{f[0]} is a prime number.'\n",
    "    \n",
    "    freq = collections.Counter(f)\n",
    "    \n",
    "    for i in set(f):\n",
    "        \n",
    "        if freq[i] == 1:\n",
    "            factor_display.append(str(i))\n",
    "            \n",
    "        else:\n",
    "            factor_display.append(str(i)+'^'+str(freq[i]))\n",
    "    \n",
    "    return ', '.join(factor_display)"
   ]
  },
  {
   "cell_type": "code",
   "execution_count": 4,
   "id": "5432c189",
   "metadata": {},
   "outputs": [
    {
     "name": "stdout",
     "output_type": "stream",
     "text": [
      "Enter a number: 50\n",
      "2, 5^2\n"
     ]
    }
   ],
   "source": [
    "def main():\n",
    "    \n",
    "    n = input_integer()\n",
    "    \n",
    "    factors = prime_factors(n)\n",
    "    \n",
    "    print(display_factors(factors))\n",
    "    \n",
    "if __name__ == '__main__':\n",
    "    main()"
   ]
  },
  {
   "cell_type": "code",
   "execution_count": null,
   "id": "1a4f936f",
   "metadata": {},
   "outputs": [],
   "source": []
  }
 ],
 "metadata": {
  "kernelspec": {
   "display_name": "Python 3 (ipykernel)",
   "language": "python",
   "name": "python3"
  },
  "language_info": {
   "codemirror_mode": {
    "name": "ipython",
    "version": 3
   },
   "file_extension": ".py",
   "mimetype": "text/x-python",
   "name": "python",
   "nbconvert_exporter": "python",
   "pygments_lexer": "ipython3",
   "version": "3.9.12"
  }
 },
 "nbformat": 4,
 "nbformat_minor": 5
}
